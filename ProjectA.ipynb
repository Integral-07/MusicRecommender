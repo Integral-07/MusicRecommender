{
  "nbformat": 4,
  "nbformat_minor": 0,
  "metadata": {
    "colab": {
      "provenance": [],
      "collapsed_sections": []
    },
    "kernelspec": {
      "name": "python3",
      "display_name": "Python 3"
    },
    "language_info": {
      "name": "python"
    }
  },
  "cells": [
    {
      "cell_type": "markdown",
      "source": [
        "〈入力データの説明〉\n",
        "  \n",
        "  感情の指標のリスト\n",
        "  [C1, C2, C3, C4, C5, C6]\n",
        "\n",
        " ・ 印象クラス\n",
        "\n",
        "  C1:堂々とした印象/\n",
        "  C2:元気が出る/\n",
        "  C3:切ない/\n",
        "  C4:激しい/\n",
        "  C5:滑稽/\n",
        "  C6:可愛い\n"
      ],
      "metadata": {
        "id": "KoAXxvfsbVgC"
      }
    },
    {
      "cell_type": "markdown",
      "source": [
        "<今回>\n",
        "\n",
        "InputData = [3.0000,1.7500,2.2500,2.2500,2.0000,1.7500]"
      ],
      "metadata": {
        "id": "6oz2GkKndICD"
      }
    },
    {
      "cell_type": "code",
      "execution_count": 174,
      "metadata": {
        "id": "iT-aY_HwtB-X"
      },
      "outputs": [],
      "source": [
        "import numpy as np\n",
        "import pandas as pd\n",
        "import random\n",
        "import matplotlib.pyplot as plt\n",
        "%matplotlib inline\n",
        "\n",
        "import requests\n",
        "from bs4 import BeautifulSoup\n",
        "import pickle\n",
        "\n",
        "import lightgbm as lgb\n",
        "from sklearn import datasets\n",
        "from sklearn.model_selection import train_test_split\n",
        "from sklearn.model_selection import StratifiedKFold"
      ]
    },
    {
      "cell_type": "code",
      "source": [
        "NumberOfClass = 3        #クラスタリング時のクラス数\n",
        "TimesOfLearning = 3000   #学習回数"
      ],
      "metadata": {
        "id": "SdD6QYAxI0AE"
      },
      "execution_count": 175,
      "outputs": []
    },
    {
      "cell_type": "code",
      "source": [
        "#データセットを読み込む\n",
        "ds1 = pd.read_csv('NicoNicoVideoMoodDataset500ChorusMovie.tsv',delimiter='\\t', header=None,names=['target', 'C1','C2','C3','C4','C5','C6','Valence','Arousal'])\n",
        "ds2 = pd.read_csv('NicoNicoVideoMoodDataset500ChorusAudio.tsv',delimiter='\\t', header=None,names=['target', 'C1','C2','C3','C4','C5','C6','Valence','Arousal'])\n",
        "ds3 = pd.read_csv('NicoNicoVideoMoodDataset500ChorusVisual.tsv',delimiter='\\t', header=None,names=['target', 'C1','C2','C3','C4','C5','C6','Valence','Arousal'])\n",
        "\n",
        "ds = pd.concat([ds1, ds2, ds3]) #3つのdsを結合\n",
        "ds = ds.reset_index(drop=True)  #インデックスの振り直し\n",
        "ds.to_csv(\"train_ds.csv\")"
      ],
      "metadata": {
        "id": "GowCEbp31mJ2"
      },
      "execution_count": 176,
      "outputs": []
    },
    {
      "cell_type": "code",
      "source": [
        "#dtのC1～C6までの列を取得\n",
        "X = ds[['C1','C2','C3','C4','C5','C6',]]"
      ],
      "metadata": {
        "id": "BoJ90r8Yk3SB"
      },
      "execution_count": 177,
      "outputs": []
    },
    {
      "cell_type": "code",
      "source": [
        "# (NumberOfClass)個のクラスに分ける\n",
        "from sklearn.cluster import KMeans\n",
        "kmeans = KMeans(n_clusters=NumberOfClass, max_iter=30, init=\"random\")\n",
        "cluster = kmeans.fit_predict(X.values)"
      ],
      "metadata": {
        "id": "OmcYz0nhEQ4Q"
      },
      "execution_count": 178,
      "outputs": []
    },
    {
      "cell_type": "code",
      "source": [
        "X[\"cluster\"] = [x for x in cluster]\n",
        "X.to_csv(\"train_X.csv\")"
      ],
      "metadata": {
        "id": "qZ2k6tN-Ftsf",
        "colab": {
          "base_uri": "https://localhost:8080/"
        },
        "outputId": "96865a4d-3fa0-4701-91fb-415e7277d09d"
      },
      "execution_count": 179,
      "outputs": [
        {
          "output_type": "stream",
          "name": "stderr",
          "text": [
            "/usr/local/lib/python3.7/dist-packages/ipykernel_launcher.py:1: SettingWithCopyWarning: \n",
            "A value is trying to be set on a copy of a slice from a DataFrame.\n",
            "Try using .loc[row_indexer,col_indexer] = value instead\n",
            "\n",
            "See the caveats in the documentation: https://pandas.pydata.org/pandas-docs/stable/user_guide/indexing.html#returning-a-view-versus-a-copy\n",
            "  \"\"\"Entry point for launching an IPython kernel.\n"
          ]
        }
      ]
    },
    {
      "cell_type": "code",
      "source": [
        "ds = pd.read_csv(\"train_X.csv\",index_col=0)\n",
        "y = X.loc[:,'cluster']\n",
        "X = ds.iloc[:,1:]"
      ],
      "metadata": {
        "id": "gk-ll_Dd27Mt"
      },
      "execution_count": 180,
      "outputs": []
    },
    {
      "cell_type": "code",
      "source": [
        "X_train, X_test, y_train, y_test = train_test_split(X, y,\n",
        "                                                    test_size=0.2,\n",
        "                                                    random_state=0)"
      ],
      "metadata": {
        "id": "0FSqFZKF4P6t"
      },
      "execution_count": 181,
      "outputs": []
    },
    {
      "cell_type": "code",
      "source": [
        "# データを格納する\n",
        "# 学習用\n",
        "lgb_train = lgb.Dataset(X_train, y_train,free_raw_data=False)\n",
        "# 検証用\n",
        "lgb_eval = lgb.Dataset(X_test, y_test, reference=lgb_train,free_raw_data=False)"
      ],
      "metadata": {
        "id": "ysRrANmqyLQY"
      },
      "execution_count": 182,
      "outputs": []
    },
    {
      "cell_type": "code",
      "source": [
        "# パラメータを設定\n",
        "params = {'task': 'train',                # 学習、トレーニング ⇔　予測predict\n",
        "          'boosting_type': 'gbdt',        # 勾配ブースティング\n",
        "          'objective': 'multiclass',      # 目的関数：多値分類、マルチクラス分類\n",
        "          'metric': 'multi_logloss',      # 分類モデルの性能を測る指標\n",
        "          'num_class': NumberOfClass,                 # 目的変数のクラス数\n",
        "          'learning_rate': 0.02,          # 学習率（初期値0.1）\n",
        "          'min_data_in_leaf': 1,          # データの最小数（初期値20）\n",
        "         }"
      ],
      "metadata": {
        "id": "NcOH3m_DytuA"
      },
      "execution_count": 183,
      "outputs": []
    },
    {
      "cell_type": "code",
      "source": [
        "# 学習\n",
        "evaluation_results = {}                                     # 学習の経過を保存する箱\n",
        "model = lgb.train(params,                                   # 上記で設定したパラメータ\n",
        "                  lgb_train,                                # 使用するデータセット\n",
        "                  num_boost_round=TimesOfLearning,          # 学習の回数\n",
        "                  valid_names=['train', 'valid'],           # 学習経過で表示する名称\n",
        "                  valid_sets=[lgb_train, lgb_eval],         # モデル検証のデータセット\n",
        "                  evals_result=evaluation_results,          # 学習の経過を保存\n",
        "                  verbose_eval=10)                          # 学習の経過の表示(10回毎)\n",
        "\n",
        "# 最もスコアが良いときのラウンドを保存\n",
        "optimum_boost_rounds = model.best_iteration\n",
        "\n",
        "#学習モデルを保存\n",
        "pickle.dump(model, open(\"Model.pkl\", 'wb'))"
      ],
      "metadata": {
        "id": "wBOpN-qA4xw3"
      },
      "execution_count": null,
      "outputs": []
    },
    {
      "cell_type": "code",
      "source": [
        "# Accuracy の計算\n",
        "model = pickle.load(open('Model.pkl', 'rb'))\n",
        "y_pred = model.predict(X_test, num_iteration=model.best_iteration)\n",
        "y_pred_max = np.argmax(y_pred, axis=1)\n",
        "accuracy = sum(y_test == y_pred_max) / len(y_test)\n",
        "print('accuracy:', accuracy)"
      ],
      "metadata": {
        "id": "Ke0d33ro42UI",
        "colab": {
          "base_uri": "https://localhost:8080/"
        },
        "outputId": "c1c6cd45-c5d4-4ddf-ce4f-952e908c06f1"
      },
      "execution_count": 188,
      "outputs": [
        {
          "output_type": "stream",
          "name": "stdout",
          "text": [
            "accuracy: 1.0\n"
          ]
        }
      ]
    },
    {
      "cell_type": "code",
      "source": [
        "def main(Emotion):\n",
        "  ds = pd.read_csv(\"train_ds.csv\",index_col=0)\n",
        "  model = pickle.load(open('Model.pkl', 'rb'))\n",
        "  E = pd.Series(Emotion, index = [\"C1\",\"C2\",\"C3\",\"C4\",\"C5\",\"C6\"])  #受けとったリストをデータフレームに変換\n",
        "  y_pred = model.predict(E, num_iteration=model.best_iteration)    #予測\n",
        "  Pre = y_pred.argmax()                                            #予測結果から最も高い確率のものを選出\n",
        "  Apply = y[y==Pre]                                                #予測結果と同クラスの曲IDを抽出\n",
        "  ID = ds[\"target\"]                                                #曲IDのみのデータフレーム生成\n",
        "  \n",
        "  list = []\n",
        "  for i in Apply.index:                                            #インデックス取得\n",
        "    list.append(i)\n",
        "\n",
        "  Recommended_Index = random.sample(list, 3)                       #同クラスの曲の中からランダムに３曲選出\n",
        "  print(\"\\nWe recommend following musics\\n\")\n",
        "\n",
        "  Recommended_ID = []\n",
        "  for j in Recommended_Index:\n",
        "    Recommended_ID.append(ID[j])\n",
        "  \n",
        "  for bottom in Recommended_ID:\n",
        "    Recommended_url = f\"https://www.nicovideo.jp/watch/{bottom}\"\n",
        "    html = requests.get(Recommended_url)\n",
        "    soup = BeautifulSoup(html.content, \"html.parser\")\n",
        "\n",
        "    Recommended_name = soup.find(\"title\").text.replace(\"- ニコニコ動画\", \"\")\n",
        "\n",
        "    Recommend_sentence = f\"{Recommended_name} : {Recommended_url}\"\n",
        "    print(Recommend_sentence)"
      ],
      "metadata": {
        "id": "gCgb1HzXxliP"
      },
      "execution_count": 189,
      "outputs": []
    },
    {
      "cell_type": "code",
      "source": [
        "emotion = [3.0000,1.7500,2.2500,2.2500,2.0000,1.7500] #入力データ\n",
        "\n",
        "main(emotion)\n"
      ],
      "metadata": {
        "colab": {
          "base_uri": "https://localhost:8080/"
        },
        "id": "YJAoAo0x797x",
        "outputId": "3122be86-86c5-4af3-bbaa-ccb790defd1b"
      },
      "execution_count": 191,
      "outputs": [
        {
          "output_type": "stream",
          "name": "stdout",
          "text": [
            "\n",
            "We recommend following musics\n",
            "\n",
            "【鏡音リン】狂騒ノ現【オリジナル/ワンオポ】  : https://www.nicovideo.jp/watch/sm11146117\n",
            "【GUMI】ずっと光る砂【PV付オリジナル曲】  : https://www.nicovideo.jp/watch/sm15800552\n",
            "【初音ミク】ドミノ倒シ【オリジナル曲PV付】  : https://www.nicovideo.jp/watch/sm13306896\n"
          ]
        }
      ]
    },
    {
      "cell_type": "code",
      "source": [],
      "metadata": {
        "id": "uzntcKttYrIu"
      },
      "execution_count": 187,
      "outputs": []
    }
  ]
}